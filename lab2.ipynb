{
 "cells": [
  {
   "cell_type": "code",
   "execution_count": 1,
   "metadata": {},
   "outputs": [],
   "source": [
    "import pymorphy2\n",
    "from datetime import datetime\n",
    "from datetime import timedelta\n",
    "import matplotlib.pyplot as plt\n",
    "import seaborn as sns\n",
    "import numpy as np\n",
    "import pandas as pd"
   ]
  },
  {
   "cell_type": "code",
   "execution_count": 2,
   "metadata": {},
   "outputs": [],
   "source": [
    "morph = pymorphy2.MorphAnalyzer()"
   ]
  },
  {
   "cell_type": "markdown",
   "metadata": {},
   "source": [
    "1. Подготовка и обработка данных."
   ]
  },
  {
   "cell_type": "code",
   "execution_count": 3,
   "metadata": {},
   "outputs": [],
   "source": [
    "def my_split(res, seps):\n",
    "    for sep in seps:\n",
    "        s, res = res, []\n",
    "        for seq in s:\n",
    "            res += seq.split(sep)\n",
    "    return res"
   ]
  },
  {
   "cell_type": "code",
   "execution_count": 4,
   "metadata": {},
   "outputs": [],
   "source": [
    "sentence_list = []\n",
    "\n",
    "total_words = 0\n",
    "total_twits = 0\n",
    "count_words = {}\n",
    "freq_in_twits = {}\n",
    "twits_length = {}\n",
    "word_estimations = {}\n",
    "\n",
    "separators = ['.', ',', '*', '\"', \"'\", ':', ';', '!', '?']\n",
    "ignore_word_type = ['PREP', 'CONJ', 'PRCL', 'INTJ', None]"
   ]
  },
  {
   "cell_type": "code",
   "execution_count": 5,
   "metadata": {},
   "outputs": [],
   "source": [
    "def parse_sentence(line):\n",
    "    sentence = []\n",
    "    ignore_flag = False\n",
    "    for word in line:\n",
    "        if ignore_flag:\n",
    "            ignore_flag = False\n",
    "            continue\n",
    "        if word == '#':\n",
    "            ignore_flag = True\n",
    "            continue\n",
    "        if r\".com/\" not in word:\n",
    "            word = my_split([word], separators)\n",
    "            sentence += word\n",
    "        # print(word, morph.normal_forms(word)[0], morph.tag(word)[0].POS)\n",
    "    sentence = [morph.normal_forms(word)[0] for word in sentence\n",
    "                if word != '' and morph.tag(word)[0].POS not in ignore_word_type]\n",
    "    return sentence"
   ]
  },
  {
   "cell_type": "code",
   "execution_count": 6,
   "metadata": {},
   "outputs": [],
   "source": [
    "class SentenceNote:\n",
    "    def __init__(self, line):\n",
    "        self.estimation_1 = 0\n",
    "        self.estimation_2 = 0\n",
    "        self.estimation_3 = 0\n",
    "        self.estimation_4 = 0\n",
    "        line = line.split()\n",
    "        day = list(map(int, line[0].split('-')))\n",
    "        time = list(map(int, line[1].split(':')))\n",
    "        self.time = datetime(day = day[2], month = day[1], year = day[0], hour = time[0], minute = time[1])\n",
    "        raw_sentence = parse_sentence(line[2:])\n",
    "        self.size = len(raw_sentence)\n",
    "        self.used_words = {}\n",
    "        for word in raw_sentence:\n",
    "            if self.used_words.get(word, 0) == 0:\n",
    "                self.used_words[word] = 0\n",
    "            self.used_words[word] += 1\n",
    "\n",
    "    def __str__(self):\n",
    "        return \"    \".join([str(self.time), str(self.used_words.items())])\n",
    "    \n",
    "    def __repr__(self):\n",
    "        return self.__str__()"
   ]
  },
  {
   "cell_type": "code",
   "execution_count": 7,
   "metadata": {
    "scrolled": false
   },
   "outputs": [],
   "source": [
    "with open(\"data_utf8.txt\", encoding='UTF8') as file:\n",
    "    for line in file:\n",
    "        line = line.strip()\n",
    "        if len(line) == 0:\n",
    "            continue\n",
    "        sentence = SentenceNote(line)\n",
    "        sentence_list.append(sentence)"
   ]
  },
  {
   "cell_type": "markdown",
   "metadata": {},
   "source": [
    "2. Частотный анализ."
   ]
  },
  {
   "cell_type": "code",
   "execution_count": 8,
   "metadata": {},
   "outputs": [],
   "source": [
    "total_twits = len(sentence_list)\n",
    "\n",
    "for sentence in sentence_list:\n",
    "    total_words += sentence.size\n",
    "    if twits_length.get(sentence.size, 0) == 0:\n",
    "        twits_length[sentence.size] = 0\n",
    "    twits_length[sentence.size] += 1\n",
    "    \n",
    "    for word, count in sentence.used_words.items():\n",
    "        if count_words.get(word, 0) == 0:\n",
    "            count_words[word] = 0\n",
    "        count_words[word] += count\n",
    "        if freq_in_twits.get(word, 0) == 0:\n",
    "            freq_in_twits[word] = 0\n",
    "        freq_in_twits[word] += 1"
   ]
  },
  {
   "cell_type": "code",
   "execution_count": 9,
   "metadata": {},
   "outputs": [],
   "source": [
    "file = open(\"frequency.txt\", 'w', encoding='UTF8')\n",
    "for word, cnt in sorted(freq_in_twits.items(), key= lambda x: x[1], reverse = True):\n",
    "    print(\"%s - %d - %.3f%%\" % (word, freq_in_twits[word], freq_in_twits[word]/total_twits*100), file=file)\n",
    "file.close()"
   ]
  },
  {
   "cell_type": "code",
   "execution_count": 10,
   "metadata": {},
   "outputs": [
    {
     "data": {
      "text/plain": [
       "True"
      ]
     },
     "execution_count": 10,
     "metadata": {},
     "output_type": "execute_result"
    }
   ],
   "source": [
    "file = open(\"twits_length.txt\", 'w', encoding='UTF8')\n",
    "sum_twits = 0\n",
    "for length, cnt in sorted(twits_length.items(), key= lambda x: x[1], reverse = True):\n",
    "    sum_twits += cnt\n",
    "    print(\"%d - %d - %.3f%%\" % (length, cnt, cnt/total_twits*100), file= file)\n",
    "file.close()\n",
    "sum_twits == total_twits"
   ]
  },
  {
   "cell_type": "markdown",
   "metadata": {},
   "source": [
    "3. Эмпирическая оценка/разметка отдельных слов."
   ]
  },
  {
   "cell_type": "code",
   "execution_count": 11,
   "metadata": {},
   "outputs": [],
   "source": [
    "# file = open(\"word_score_no.txt\", 'w', encoding='UTF8')\n",
    "# for word, cnt in sorted(freq_in_twits.items(), key= lambda x: x[1], reverse = True):\n",
    "#     print(word, \"\" if freq_in_twits[word] > 1 else 0, file=file)\n",
    "# file.close() "
   ]
  },
  {
   "cell_type": "markdown",
   "metadata": {},
   "source": [
    "4. Правила классификации. Оценка твитов. Сравнительный анализ."
   ]
  },
  {
   "cell_type": "code",
   "execution_count": 12,
   "metadata": {},
   "outputs": [],
   "source": [
    "def rule_1_func():\n",
    "    for sentence in sentence_list:\n",
    "        for word, number in sentence.used_words.items():\n",
    "            sentence.estimation_1 += word_estimations.get(word, 0) * number\n",
    "        if sentence.estimation_1 >0 :\n",
    "            sentence.estimation_1 = 1;\n",
    "        elif sentence.estimation_1 < 0:\n",
    "            sentence.estimation_1 = -1"
   ]
  },
  {
   "cell_type": "code",
   "execution_count": 13,
   "metadata": {},
   "outputs": [],
   "source": [
    "def rule_2_func():\n",
    "    for sentence in sentence_list:\n",
    "        bad, neutral, good = 0, 0, 0\n",
    "        for word, number in sentence.used_words.items():\n",
    "            word_type = word_estimations.get(word, 0)\n",
    "            if word_type < 0:\n",
    "                bad += number\n",
    "            elif word_type == 0:\n",
    "                neutral += number\n",
    "            else:\n",
    "                good += number\n",
    "        if neutral > good and neutral > bad or bad == good:\n",
    "            sentence.estimation_2 = 0\n",
    "        elif bad > good:\n",
    "            sentence.estimation_2 = -1\n",
    "        else:\n",
    "            sentence.estimation_2 = 1"
   ]
  },
  {
   "cell_type": "code",
   "execution_count": 14,
   "metadata": {},
   "outputs": [],
   "source": [
    "def rule_3_func():\n",
    "    for sentence in sentence_list:\n",
    "        bad, neutral, good = 0, 0, 0\n",
    "        for word, number in sentence.used_words.items():\n",
    "            word_type = word_estimations.get(word, 0)\n",
    "            if word_type < 0:\n",
    "                bad += number\n",
    "            elif word_type == 0:\n",
    "                neutral += number\n",
    "            else:\n",
    "                good += number\n",
    "        if good >= 2:\n",
    "            sentence.estimation_3 = 1\n",
    "        elif bad >= 2:\n",
    "            sentence.estimation_3 = -1\n",
    "        else:\n",
    "            sentence.estimation_3 = 0"
   ]
  },
  {
   "cell_type": "code",
   "execution_count": 15,
   "metadata": {},
   "outputs": [],
   "source": [
    "def rule_4_func():\n",
    "    for sentence in sentence_list:\n",
    "        bad, neutral, good = 0, 0, 0\n",
    "        for word, number in sentence.used_words.items():\n",
    "            word_type = word_estimations.get(word, 0)\n",
    "            if word_type < 0:\n",
    "                bad += number\n",
    "            elif word_type == 0:\n",
    "                neutral += number\n",
    "            else:\n",
    "                good += number\n",
    "        if bad + good < neutral/4:\n",
    "            sentence.estimation_4 = 0\n",
    "        elif good >= bad:\n",
    "            sentence.estimation_4 = 1\n",
    "        else:\n",
    "            sentence.estimation_4 = -1"
   ]
  },
  {
   "cell_type": "code",
   "execution_count": 16,
   "metadata": {},
   "outputs": [],
   "source": [
    "with open(\"estimations.txt\", encoding='UTF8') as file:\n",
    "    for line in file:\n",
    "        line = line.strip().split()\n",
    "        if(len(line) == 1) : print(line)\n",
    "        word, score = line[0], int(line[1])\n",
    "        word_estimations[word] = score"
   ]
  },
  {
   "cell_type": "code",
   "execution_count": 17,
   "metadata": {},
   "outputs": [],
   "source": [
    "with open('classifications.txt.', 'w', encoding='UTF8') as file:\n",
    "    pass"
   ]
  },
  {
   "cell_type": "code",
   "execution_count": 18,
   "metadata": {},
   "outputs": [],
   "source": [
    "# for sentence in sentence_list:\n",
    "#     for word, number in sentence.used_words.items():\n",
    "#         sentence.estimation += word_estimations.get(word, 0) * number"
   ]
  },
  {
   "cell_type": "code",
   "execution_count": 19,
   "metadata": {},
   "outputs": [],
   "source": [
    "rule_1_func()\n",
    "rule_2_func()\n",
    "rule_3_func()\n",
    "rule_4_func()"
   ]
  },
  {
   "cell_type": "code",
   "execution_count": 20,
   "metadata": {},
   "outputs": [
    {
     "name": "stdout",
     "output_type": "stream",
     "text": [
      "{'bad_sentences': 2298, 'neutral_sentences': 3603, 'good_sentences': 4099}\n"
     ]
    },
    {
     "data": {
      "text/plain": [
       "<BarContainer object of 3 artists>"
      ]
     },
     "execution_count": 20,
     "metadata": {},
     "output_type": "execute_result"
    },
    {
     "data": {
      "image/png": "[encoded data removed]",
      "text/plain": [
       "<Figure size 432x288 with 1 Axes>"
      ]
     },
     "metadata": {
      "needs_background": "light"
     },
     "output_type": "display_data"
    }
   ],
   "source": [
    "rule_1 = {'bad_sentences':0, 'neutral_sentences':0,'good_sentences':0}\n",
    "for sentence in sentence_list:\n",
    "    if sentence.estimation_1 < 0:\n",
    "        rule_1['bad_sentences'] += 1\n",
    "    elif sentence.estimation_1 == 0:\n",
    "        rule_1['neutral_sentences'] += 1\n",
    "    else :\n",
    "        rule_1['good_sentences'] += 1\n",
    "print(rule_1)\n",
    "\n",
    "with open('classifications.txt.', 'a+', encoding='UTF8') as file:\n",
    "    print('Rule 1:', file= file)\n",
    "    for classification, number in rule_1.items():\n",
    "        print('%s - %d - %.3f%%' % (classification, number, 100*number/total_twits), file= file)\n",
    "    print(file=file)\n",
    "plt.bar(x=[-1,0,1], height = rule_1.values(), align ='center', color=['red', 'yellow', 'green'],\n",
    "        tick_label = ['bad', 'neutral', 'good'])"
   ]
  },
  {
   "cell_type": "code",
   "execution_count": 21,
   "metadata": {},
   "outputs": [
    {
     "name": "stdout",
     "output_type": "stream",
     "text": [
      "{'bad_sentences': 242, 'neutral_sentences': 9476, 'good_sentences': 282}\n"
     ]
    },
    {
     "data": {
      "text/plain": [
       "<BarContainer object of 3 artists>"
      ]
     },
     "execution_count": 21,
     "metadata": {},
     "output_type": "execute_result"
    },
    {
     "data": {
      "image/png": "[encoded data removed]",
      "text/plain": [
       "<Figure size 432x288 with 1 Axes>"
      ]
     },
     "metadata": {
      "needs_background": "light"
     },
     "output_type": "display_data"
    }
   ],
   "source": [
    "rule_2 = {'bad_sentences':0, 'neutral_sentences':0,'good_sentences':0}\n",
    "for sentence in sentence_list:\n",
    "    if sentence.estimation_2 < 0:\n",
    "        rule_2['bad_sentences'] += 1\n",
    "    elif sentence.estimation_2 == 0:\n",
    "        rule_2['neutral_sentences'] += 1\n",
    "    else :\n",
    "        rule_2['good_sentences'] += 1\n",
    "print(rule_2)\n",
    "\n",
    "with open('classifications.txt.', 'a+', encoding='UTF8') as file:\n",
    "    print('Rule 2:', file= file)\n",
    "    for classification, number in rule_2.items():\n",
    "        print('%s - %d - %.3f%%' % (classification, number, 100*number/total_twits), file= file)\n",
    "    print(file=file)\n",
    "plt.bar(x=[-1,0,1], height = rule_2.values(), align ='center', color=['red', 'yellow', 'green'],\n",
    "        tick_label = ['bad', 'neutral', 'good'])"
   ]
  },
  {
   "cell_type": "code",
   "execution_count": 22,
   "metadata": {},
   "outputs": [
    {
     "name": "stdout",
     "output_type": "stream",
     "text": [
      "{'bad_sentences': 1071, 'neutral_sentences': 6086, 'good_sentences': 2843}\n"
     ]
    },
    {
     "data": {
      "text/plain": [
       "<BarContainer object of 3 artists>"
      ]
     },
     "execution_count": 22,
     "metadata": {},
     "output_type": "execute_result"
    },
    {
     "data": {
      "image/png": "[encoded data removed]",
      "text/plain": [
       "<Figure size 432x288 with 1 Axes>"
      ]
     },
     "metadata": {
      "needs_background": "light"
     },
     "output_type": "display_data"
    }
   ],
   "source": [
    "rule_3 = {'bad_sentences':0, 'neutral_sentences':0,'good_sentences':0}\n",
    "for sentence in sentence_list:\n",
    "    if sentence.estimation_3 < 0:\n",
    "        rule_3['bad_sentences'] += 1\n",
    "    elif sentence.estimation_3 == 0:\n",
    "        rule_3['neutral_sentences'] += 1\n",
    "    else :\n",
    "        rule_3['good_sentences'] += 1\n",
    "print(rule_3)\n",
    "\n",
    "with open('classifications.txt.', 'a+', encoding='UTF8') as file:\n",
    "    print('Rule 3:', file= file)\n",
    "    for classification, number in rule_3.items():\n",
    "        print('%s - %d - %.3f%%' % (classification, number, 100*number/total_twits), file= file)\n",
    "    print(file=file)\n",
    "plt.bar(x=[-1,0,1], height = rule_3.values(), align ='center', color=['red', 'yellow', 'green'],\n",
    "        tick_label = ['bad', 'neutral', 'good'])"
   ]
  },
  {
   "cell_type": "code",
   "execution_count": 23,
   "metadata": {},
   "outputs": [
    {
     "name": "stdout",
     "output_type": "stream",
     "text": [
      "{'bad_sentences': 1123, 'neutral_sentences': 5881, 'good_sentences': 2996}\n"
     ]
    },
    {
     "data": {
      "text/plain": [
       "<BarContainer object of 3 artists>"
      ]
     },
     "execution_count": 23,
     "metadata": {},
     "output_type": "execute_result"
    },
    {
     "data": {
      "image/png": "[encoded data removed]",
      "text/plain": [
       "<Figure size 432x288 with 1 Axes>"
      ]
     },
     "metadata": {
      "needs_background": "light"
     },
     "output_type": "display_data"
    }
   ],
   "source": [
    "rule_4 = {'bad_sentences':0, 'neutral_sentences':0,'good_sentences':0}\n",
    "for sentence in sentence_list:\n",
    "    if sentence.estimation_4 < 0:\n",
    "        rule_4['bad_sentences'] += 1\n",
    "    elif sentence.estimation_4 == 0:\n",
    "        rule_4['neutral_sentences'] += 1\n",
    "    else :\n",
    "        rule_4['good_sentences'] += 1\n",
    "print(rule_4)\n",
    "\n",
    "with open('classifications.txt.', 'a+', encoding='UTF8') as file:\n",
    "    print('Rule 4:', file= file)\n",
    "    for classification, number in rule_4.items():\n",
    "        print('%s - %d - %.3f%%' % (classification, number, 100*number/total_twits), file= file)\n",
    "    print(file=file)\n",
    "plt.bar(x=[-1,0,1], height = rule_4.values(), align ='center', color=['red', 'yellow', 'green'],\n",
    "        tick_label = ['bad', 'neutral', 'good'])"
   ]
  },
  {
   "cell_type": "markdown",
   "metadata": {},
   "source": [
    "5. Части речи. (Достроить 2 графика)"
   ]
  },
  {
   "cell_type": "code",
   "execution_count": 24,
   "metadata": {},
   "outputs": [],
   "source": [
    "possitive_list = []\n",
    "negative_list = []\n",
    "with open('estimations.txt', encoding='UTF8') as file:\n",
    "    for line in file:\n",
    "        line = line.strip().split()\n",
    "        word = line[0]\n",
    "        word_estimation = int(line[1])\n",
    "        if morph.tag(word)[0].POS == 'ADJF':\n",
    "            if word_estimation == 1 and len(possitive_list) < 5:\n",
    "                possitive_list.append(word)\n",
    "            if word_estimation == -1 and len(negative_list) < 5:\n",
    "                negative_list.append(word)\n",
    "with open('adjectives.txt.', 'w', encoding='UTF8') as file:\n",
    "    print('Top-5 Positive:', file= file)\n",
    "    for word in possitive_list:\n",
    "        print('%s - %d - %.3f%%' % (word, freq_in_twits[word], 100*freq_in_twits[word]/total_twits), file= file)\n",
    "    print(file= file)\n",
    "    \n",
    "    print('Top-5 Negative:', file= file)\n",
    "    for word in negative_list:\n",
    "        print('%s - %d - %.3f%%' % (word, freq_in_twits[word], 100*freq_in_twits[word]/total_twits), file= file)\n",
    "    print(file= file)"
   ]
  },
  {
   "cell_type": "code",
   "execution_count": 25,
   "metadata": {},
   "outputs": [],
   "source": [
    "# # set width of bar\n",
    "# barWidth = 0.4\n",
    " \n",
    "# # set height of bar\n",
    "# bars_negative = list(map(lambda x: freq_in_twits[x], negative_list))\n",
    "# bars_possitive = list(map(lambda x: freq_in_twits[x], possitive_list))\n",
    "\n",
    "# print(bars_negative)\n",
    "# print(bars_possitive)\n",
    "\n",
    "# # Set position of bar on X axis\n",
    "# r1 = np.arange(len(bars1))\n",
    "# r2 = [x + barWidth for x in r1]\n",
    "\n",
    "# # Make the plot\n",
    "# plt.bar(r1, bars1, color='red', width=barWidth, edgecolor='white', label='Top-5-negative')\n",
    "# plt.bar(r2, bars2, color='green', width=barWidth, edgecolor='white', label='Top-5-possitive')\n",
    " \n",
    "# # Add xticks on the middle of the group bars\n",
    "# #plt.xlabel('', fontweight='bold')\n",
    "# plt.xticks([r + barWidth/2 for r in range(len(bars1))], ['Top-1', 'Top-2', 'Top-3', 'Top-4', 'Top-5'])\n",
    " \n",
    "# # Create legend & Show graphic\n",
    "# plt.legend()\n",
    "# plt.show()"
   ]
  },
  {
   "cell_type": "code",
   "execution_count": 26,
   "metadata": {},
   "outputs": [
    {
     "name": "stdout",
     "output_type": "stream",
     "text": [
      "   Semantics    Top  Frequency        Word\n",
      "0   negative  Top-1        323     обидный\n",
      "1   negative  Top-2         58  кривоногий\n",
      "2   negative  Top-3         55      плохой\n",
      "3   negative  Top-4         51   виноватый\n",
      "4   negative  Top-5         49    грустный\n",
      "5  possitive  Top-1       1073     хороший\n",
      "6  possitive  Top-2        268   достойный\n",
      "7  possitive  Top-3        158     сильный\n",
      "8  possitive  Top-4        124  прекрасный\n",
      "9  possitive  Top-5         96    красивый\n"
     ]
    },
    {
     "data": {
      "text/plain": [
       "<seaborn.axisgrid.FacetGrid at 0x1629ed0>"
      ]
     },
     "execution_count": 26,
     "metadata": {},
     "output_type": "execute_result"
    },
    {
     "data": {
      "image/png": "[encoded data removed]",
      "text/plain": [
       "<Figure size 440.375x360 with 1 Axes>"
      ]
     },
     "metadata": {
      "needs_background": "light"
     },
     "output_type": "display_data"
    }
   ],
   "source": [
    "raw_data = {'Top':['Top-1', 'Top-2', 'Top-3', 'Top-4', 'Top-5']*2,\n",
    "           'Semantics':['negative']*5 + ['possitive']*5,\n",
    "           'Frequency':list(map(lambda x: freq_in_twits[x], negative_list)) + list(map(lambda x: freq_in_twits[x], possitive_list)),\n",
    "           'Word':negative_list + possitive_list}\n",
    "df = pd.DataFrame(raw_data, columns=['Semantics','Top','Frequency','Word'])\n",
    "print(df)\n",
    "g = sns.catplot(x=\"Top\", y=\"Frequency\", hue=\"Semantics\", data=df,\n",
    "                height=5, kind=\"bar\", palette={'possitive':'g', 'negative':'r'})\n",
    "g.despine(left=True)\n",
    "g.set_ylabels(\"Frequency\")"
   ]
  },
  {
   "cell_type": "markdown",
   "metadata": {},
   "source": [
    "6. Оценить распределение положительных/отрицательных/нейтральных твитов по времени."
   ]
  },
  {
   "cell_type": "code",
   "execution_count": 27,
   "metadata": {
    "scrolled": true
   },
   "outputs": [
    {
     "name": "stdout",
     "output_type": "stream",
     "text": [
      "True\n"
     ]
    }
   ],
   "source": [
    "outset = set(sentence_list)\n",
    "delta = timedelta(minutes = 30)\n",
    "mintime = sentence_list[0].time\n",
    "for sentence in sentence_list:\n",
    "    mintime = min(mintime, sentence.time)\n",
    "time = mintime + delta\n",
    "delta = timedelta(minutes = 10)\n",
    "\n",
    "time_list = [time]\n",
    "possitive_time_1 = [0]\n",
    "neutral_time_1 = [0]\n",
    "negative_time_1 = [0]\n",
    "sum_time = [0]\n",
    "\n",
    "for sentence in sorted(sentence_list, key= lambda x: x.time):\n",
    "    if sentence.time >= time:\n",
    "        time += delta\n",
    "        possitive_time_1.append(possitive_time_1[-1])\n",
    "        neutral_time_1.append(neutral_time_1[-1])\n",
    "        negative_time_1.append(negative_time_1[-1])\n",
    "        sum_time.append(sum_time[-1])\n",
    "        time_list.append(time)\n",
    "    sum_time[-1] += 1\n",
    "    if sentence.estimation_1 > 0:\n",
    "        possitive_time_1[-1] += 1\n",
    "    elif sentence.estimation_1 == 0:\n",
    "        neutral_time_1[-1] += 1\n",
    "    else:\n",
    "        negative_time_1[-1] += 1\n",
    "print(sum_time[-1] == total_twits)\n",
    "with open('hours_1.txt','w', encoding='UTF8') as file:\n",
    "    for possitive, neutral, negative, time, sumt in zip(possitive_time_1, neutral_time_1, negative_time_1, time_list, sum_time):\n",
    "        print('%s - %s : %d : %.5f / %.5f / %.5f' % (mintime, time, sumt, possitive/total_twits, neutral/total_twits, negative/total_twits), file= file)\n",
    "        #print('%s - %s : %d : %.5f / %.5f / %.5f' % (mintime, time, sumt, possitive/total_twits, neutral/total_twits, negative/total_twits))"
   ]
  },
  {
   "cell_type": "code",
   "execution_count": 28,
   "metadata": {},
   "outputs": [
    {
     "name": "stdout",
     "output_type": "stream",
     "text": [
      "True\n"
     ]
    }
   ],
   "source": [
    "outset = set(sentence_list)\n",
    "delta = timedelta(minutes = 30)\n",
    "mintime = sentence_list[0].time\n",
    "for sentence in sentence_list:\n",
    "    mintime = min(mintime, sentence.time)\n",
    "time = mintime + delta\n",
    "delta = timedelta(minutes = 10)\n",
    "\n",
    "time_list = [time]\n",
    "possitive_time_2 = [0]\n",
    "neutral_time_2 = [0]\n",
    "negative_time_2 = [0]\n",
    "sum_time = [0]\n",
    "\n",
    "for sentence in sorted(sentence_list, key= lambda x: x.time):\n",
    "    if sentence.time >= time:\n",
    "        time += delta\n",
    "        possitive_time_2.append(possitive_time_2[-1])\n",
    "        neutral_time_2.append(neutral_time_2[-1])\n",
    "        negative_time_2.append(negative_time_2[-1])\n",
    "        sum_time.append(sum_time[-1])\n",
    "        time_list.append(time)\n",
    "    sum_time[-1] += 1\n",
    "    if sentence.estimation_2 > 0:\n",
    "        possitive_time_2[-1] += 1\n",
    "    elif sentence.estimation_2 == 0:\n",
    "        neutral_time_2[-1] += 1\n",
    "    else:\n",
    "        negative_time_2[-1] += 1\n",
    "print(sum_time[-1] == total_twits)\n",
    "with open('hours_2.txt','w', encoding='UTF8') as file:\n",
    "    for possitive, neutral, negative, time, sumt in zip(possitive_time_2, neutral_time_2, negative_time_2, time_list, sum_time):\n",
    "        print('%s - %s : %d : %.5f / %.5f / %.5f' % (mintime, time, sumt, possitive/total_twits, neutral/total_twits, negative/total_twits), file= file)\n",
    "        #print('%s - %s : %d : %.5f / %.5f / %.5f' % (mintime, time, sumt, possitive/total_twits, neutral/total_twits, negative/total_twits))"
   ]
  },
  {
   "cell_type": "code",
   "execution_count": 29,
   "metadata": {},
   "outputs": [
    {
     "name": "stdout",
     "output_type": "stream",
     "text": [
      "True\n"
     ]
    }
   ],
   "source": [
    "outset = set(sentence_list)\n",
    "delta = timedelta(minutes = 30)\n",
    "mintime = sentence_list[0].time\n",
    "for sentence in sentence_list:\n",
    "    mintime = min(mintime, sentence.time)\n",
    "time = mintime + delta\n",
    "delta = timedelta(minutes = 10)\n",
    "\n",
    "time_list = [time]\n",
    "possitive_time_3 = [0]\n",
    "neutral_time_3 = [0]\n",
    "negative_time_3 = [0]\n",
    "sum_time = [0]\n",
    "\n",
    "for sentence in sorted(sentence_list, key= lambda x: x.time):\n",
    "    if sentence.time >= time:\n",
    "        time += delta\n",
    "        possitive_time_3.append(possitive_time_3[-1])\n",
    "        neutral_time_3.append(neutral_time_3[-1])\n",
    "        negative_time_3.append(negative_time_3[-1])\n",
    "        sum_time.append(sum_time[-1])\n",
    "        time_list.append(time)\n",
    "    sum_time[-1] += 1\n",
    "    if sentence.estimation_3 > 0:\n",
    "        possitive_time_3[-1] += 1\n",
    "    elif sentence.estimation_3 == 0:\n",
    "        neutral_time_3[-1] += 1\n",
    "    else:\n",
    "        negative_time_3[-1] += 1\n",
    "print(sum_time[-1] == total_twits)\n",
    "with open('hours_3.txt','w', encoding='UTF8') as file:\n",
    "    for possitive, neutral, negative, time, sumt in zip(possitive_time_3, neutral_time_3, negative_time_3, time_list, sum_time):\n",
    "        print('%s - %s : %d : %.5f / %.5f / %.5f' % (mintime, time, sumt, possitive/total_twits, neutral/total_twits, negative/total_twits), file= file)\n",
    "        #print('%s - %s : %d : %.5f / %.5f / %.5f' % (mintime, time, sumt, possitive/total_twits, neutral/total_twits, negative/total_twits))"
   ]
  },
  {
   "cell_type": "code",
   "execution_count": 30,
   "metadata": {},
   "outputs": [
    {
     "name": "stdout",
     "output_type": "stream",
     "text": [
      "True\n"
     ]
    }
   ],
   "source": [
    "outset = set(sentence_list)\n",
    "delta = timedelta(minutes = 30)\n",
    "mintime = sentence_list[0].time\n",
    "for sentence in sentence_list:\n",
    "    mintime = min(mintime, sentence.time)\n",
    "time = mintime + delta\n",
    "delta = timedelta(minutes = 10)\n",
    "\n",
    "time_list = [time]\n",
    "possitive_time_4 = [0]\n",
    "neutral_time_4 = [0]\n",
    "negative_time_4 = [0]\n",
    "sum_time = [0]\n",
    "\n",
    "for sentence in sorted(sentence_list, key= lambda x: x.time):\n",
    "    if sentence.time >= time:\n",
    "        time += delta\n",
    "        possitive_time_4.append(possitive_time_4[-1])\n",
    "        neutral_time_4.append(neutral_time_4[-1])\n",
    "        negative_time_4.append(negative_time_4[-1])\n",
    "        sum_time.append(sum_time[-1])\n",
    "        time_list.append(time)\n",
    "    sum_time[-1] += 1\n",
    "    if sentence.estimation_4 > 0:\n",
    "        possitive_time_4[-1] += 1\n",
    "    elif sentence.estimation_4 == 0:\n",
    "        neutral_time_4[-1] += 1\n",
    "    else:\n",
    "        negative_time_4[-1] += 1\n",
    "print(sum_time[-1] == total_twits)\n",
    "with open('hours_4.txt','w', encoding='UTF8') as file:\n",
    "    for possitive, neutral, negative, time, sumt in zip(possitive_time_4, neutral_time_4, negative_time_4, time_list, sum_time):\n",
    "        print('%s - %s : %d : %.5f / %.5f / %.5f' % (mintime, time, sumt, possitive/total_twits, neutral/total_twits, negative/total_twits), file= file)\n",
    "        #print('%s - %s : %d : %.5f / %.5f / %.5f' % (mintime, time, sumt, possitive/total_twits, neutral/total_twits, negative/total_twits))"
   ]
  },
  {
   "cell_type": "code",
   "execution_count": 31,
   "metadata": {},
   "outputs": [
    {
     "name": "stderr",
     "output_type": "stream",
     "text": [
      "c:\\users\\yakhtin leonid\\appdata\\local\\programs\\python\\python37-32\\lib\\site-packages\\pandas\\plotting\\_matplotlib\\converter.py:103: FutureWarning: Using an implicitly registered datetime converter for a matplotlib plotting method. The converter was registered by pandas on import. Future versions of pandas will require you to explicitly register matplotlib converters.\n",
      "\n",
      "To register the converters:\n",
      "\t>>> from pandas.plotting import register_matplotlib_converters\n",
      "\t>>> register_matplotlib_converters()\n",
      "  warnings.warn(msg, FutureWarning)\n"
     ]
    },
    {
     "data": {
      "image/png": "[encoded data removed]",
      "text/plain": [
       "<Figure size 1152x1728 with 5 Axes>"
      ]
     },
     "metadata": {
      "needs_background": "light"
     },
     "output_type": "display_data"
    }
   ],
   "source": [
    "possitive_1_ax = [x/s for x, s in zip(possitive_time_1, sum_time)]\n",
    "neutral_1_ax = [x/s for x, s in zip(neutral_time_1, sum_time)]\n",
    "negative_1_ax = [x/s for x, s in zip(negative_time_1, sum_time)]\n",
    "\n",
    "possitive_2_ax = [x/s for x, s in zip(possitive_time_2, sum_time)]\n",
    "neutral_2_ax = [x/s for x, s in zip(neutral_time_2, sum_time)]\n",
    "negative_2_ax = [x/s for x, s in zip(negative_time_2, sum_time)]\n",
    "\n",
    "possitive_3_ax = [x/s for x, s in zip(possitive_time_3, sum_time)]\n",
    "neutral_3_ax = [x/s for x, s in zip(neutral_time_3, sum_time)]\n",
    "negative_3_ax = [x/s for x, s in zip(negative_time_3, sum_time)]\n",
    "\n",
    "possitive_4_ax = [x/s for x, s in zip(possitive_time_4, sum_time)]\n",
    "neutral_4_ax = [x/s for x, s in zip(neutral_time_4, sum_time)]\n",
    "negative_4_ax = [x/s for x, s in zip(negative_time_4, sum_time)]\n",
    "\n",
    "fig, (ax1, ax2, ax3, ax4, ax) = plt.subplots(nrows = 5, ncols = 1, figsize = (16, 24))\n",
    "\n",
    "\n",
    "ax1.grid(True)\n",
    "ax2.grid(True)\n",
    "ax3.grid(True)\n",
    "ax4.grid(True)\n",
    "ax.grid(True)\n",
    "\n",
    "ax1.plot(time_list, possitive_1_ax, 'g', time_list, neutral_1_ax, 'y', time_list, negative_1_ax, 'r', linestyle='solid') \n",
    "ax1.legend(('Possitive', 'Neutral', 'Negative'))\n",
    "ax2.plot(time_list, possitive_2_ax, 'g', time_list, neutral_2_ax, 'y', time_list, negative_2_ax, 'r', linestyle='solid')\n",
    "ax2.legend(('Possitive', 'Neutral', 'Negative'))\n",
    "ax3.plot(time_list, possitive_3_ax, 'g', time_list, neutral_3_ax, 'y', time_list, negative_3_ax, 'r', linestyle='solid')\n",
    "ax3.legend(('Possitive', 'Neutral', 'Negative'))\n",
    "ax4.plot(time_list, possitive_4_ax, 'g', time_list, neutral_4_ax, 'y', time_list, negative_4_ax, 'r', linestyle='solid')\n",
    "ax4.legend(('Possitive', 'Neutral', 'Negative'))\n",
    "\n",
    "ax.stem(time_list, sum_time, label=\"Number of tweets\", basefmt=\"None\", use_line_collection=True)\n",
    "\n",
    "plt.show()"
   ]
  },
  {
   "cell_type": "markdown",
   "metadata": {},
   "source": [
    "7*. ДОПОЛНИТЕЛЬНОЕ ЗАДАНИЕ. Определение точности эмпирической оценки твитов."
   ]
  },
  {
   "cell_type": "code",
   "execution_count": 32,
   "metadata": {},
   "outputs": [
    {
     "name": "stdout",
     "output_type": "stream",
     "text": [
      "Top-5 Closest:\n",
      "\n",
      "он   0.00   0.00\n",
      "\n",
      "найти   0.00   0.00\n",
      "\n",
      "хобби   0.00   0.00\n",
      "\n",
      "домогаться   0.00   0.00\n",
      "\n",
      "заесть   0.00   0.00\n",
      "\n",
      "\n",
      "\n",
      "Top-5 Furthest:\n",
      "\n",
      "ржач   0.00   -5.00\n",
      "\n",
      "аут   0.00   4.00\n",
      "\n",
      "оля-оля   0.00   3.00\n",
      "\n",
      "грандиозный   0.00   3.00\n",
      "\n",
      "ніколя   0.00   3.00\n",
      "\n",
      "\n",
      "\n",
      "Estimation accuracy: 59.678%\n",
      "\n"
     ]
    }
   ],
   "source": [
    "empirical_estimation_1 = {}\n",
    "accuracy = 0\n",
    "\n",
    "for word in freq_in_twits:\n",
    "    empirical_estimation_1[word] = 0\n",
    "\n",
    "for sentence in sentence_list:\n",
    "    for word, freq in sentence.used_words.items():\n",
    "        empirical_estimation_1[word] += sentence.estimation_1*freq\n",
    "\n",
    "for word in freq_in_twits:\n",
    "    empirical_estimation_1[word] /= freq_in_twits[word]\n",
    "\n",
    "deviation = {}\n",
    "\n",
    "for word in freq_in_twits:\n",
    "    deviation[word] = abs(word_estimations[word] - empirical_estimation_1[word])\n",
    "    if deviation[word] < 1 or (word_estimations[word] > 0 and empirical_estimation_1[word] > 0) or (word_estimations[word] < 0 and empirical_estimation_1[word] < 0):\n",
    "        accuracy += 1\n",
    "\n",
    "#deviation_list = sorted(deviation.items(), key= lambda x: x[1], reverse=False)\n",
    "deviation_list = sorted(deviation, key= lambda x: deviation[x], reverse=False)\n",
    "\n",
    "with open('estimation_check_1.txt', 'w', encoding='UTF8') as file:\n",
    "    print(\"Top-5 Closest:\", file= file)\n",
    "    for word in deviation_list[:5]:\n",
    "        print(\"%s   %.2f   %.2f\" % (word, word_estimations[word], empirical_estimation_1[word]), file= file)\n",
    "    print(file= file)\n",
    "    \n",
    "    print(\"Top-5 Furthest:\", file= file)\n",
    "    for word in deviation_list[-1:-6:-1]:\n",
    "        print(\"%s   %.2f   %.2f\" % (word, word_estimations[word], empirical_estimation_1[word]), file= file)\n",
    "    print(file= file)\n",
    "    \n",
    "    print(\"Estimation accuracy: %.3f%%\" % (100*accuracy/len(freq_in_twits)), file=file)\n",
    "    \n",
    "with open('estimation_check_1.txt', encoding='UTF8') as file:\n",
    "    for line in file:\n",
    "        print(line)"
   ]
  },
  {
   "cell_type": "code",
   "execution_count": 33,
   "metadata": {},
   "outputs": [],
   "source": [
    "#freq_in_twits"
   ]
  },
  {
   "cell_type": "code",
   "execution_count": 34,
   "metadata": {},
   "outputs": [
    {
     "name": "stdout",
     "output_type": "stream",
     "text": [
      "Top-5 Closest:\n",
      "\n",
      "заявить   0.00   0.00\n",
      "\n",
      "снимать   0.00   0.00\n",
      "\n",
      "ответственность   0.00   0.00\n",
      "\n",
      "забитый   0.00   0.00\n",
      "\n",
      "пенальти   0.00   0.00\n",
      "\n",
      "\n",
      "\n",
      "Top-5 Furthest:\n",
      "\n",
      "позорный   -1.00   0.12\n",
      "\n",
      "мор   -1.00   0.08\n",
      "\n",
      "вытащить   1.00   -0.06\n",
      "\n",
      "охуенно   1.00   -0.06\n",
      "\n",
      "жаль   -1.00   0.02\n",
      "\n",
      "\n",
      "\n",
      "Estimation accuracy: 95.020%\n",
      "\n"
     ]
    }
   ],
   "source": [
    "empirical_estimation_2 = {}\n",
    "accuracy = 0\n",
    "\n",
    "for word in freq_in_twits:\n",
    "    empirical_estimation_2[word] = 0\n",
    "\n",
    "for sentence in sentence_list:\n",
    "    for word, freq in sentence.used_words.items():\n",
    "        empirical_estimation_2[word] += sentence.estimation_2*freq\n",
    "\n",
    "for word in freq_in_twits:\n",
    "    empirical_estimation_2[word] /= freq_in_twits[word]\n",
    "\n",
    "deviation = {}\n",
    "\n",
    "for word in freq_in_twits:\n",
    "    deviation[word] = abs(word_estimations[word] - empirical_estimation_2[word])\n",
    "    if deviation[word] < 1 or (word_estimations[word] > 0 and empirical_estimation_2[word] > 0) or (word_estimations[word] < 0 and empirical_estimation_2[word] < 0):\n",
    "        accuracy += 1\n",
    "\n",
    "#deviation_list = sorted(deviation.items(), key= lambda x: x[1], reverse=False)\n",
    "deviation_list = sorted(deviation, key= lambda x: deviation[x], reverse=False)\n",
    "\n",
    "with open('estimation_check_2.txt', 'w', encoding='UTF8') as file:\n",
    "    print(\"Top-5 Closest:\", file= file)\n",
    "    for word in deviation_list[:5]:\n",
    "        print(\"%s   %.2f   %.2f\" % (word, word_estimations[word], empirical_estimation_2[word]), file= file)\n",
    "    print(file= file)\n",
    "    \n",
    "    print(\"Top-5 Furthest:\", file= file)\n",
    "    for word in deviation_list[-1:-6:-1]:\n",
    "        print(\"%s   %.2f   %.2f\" % (word, word_estimations[word], empirical_estimation_2[word]), file= file)\n",
    "    print(file= file)\n",
    "    \n",
    "    print(\"Estimation accuracy: %.3f%%\" % (100*accuracy/len(freq_in_twits)), file=file)\n",
    "    \n",
    "with open('estimation_check_2.txt', encoding='UTF8') as file:\n",
    "    for line in file:\n",
    "        print(line)"
   ]
  },
  {
   "cell_type": "code",
   "execution_count": 35,
   "metadata": {},
   "outputs": [
    {
     "name": "stdout",
     "output_type": "stream",
     "text": [
      "Top-5 Closest:\n",
      "\n",
      "видимо   0.00   0.00\n",
      "\n",
      "найти   0.00   0.00\n",
      "\n",
      "взаимопонимание   0.00   0.00\n",
      "\n",
      "хобби   0.00   0.00\n",
      "\n",
      "домогаться   0.00   0.00\n",
      "\n",
      "\n",
      "\n",
      "Top-5 Furthest:\n",
      "\n",
      "ржач   0.00   -5.00\n",
      "\n",
      "аут   0.00   4.00\n",
      "\n",
      "оля-оля   0.00   3.00\n",
      "\n",
      "грандиозный   0.00   3.00\n",
      "\n",
      "посрать   0.00   2.00\n",
      "\n",
      "\n",
      "\n",
      "Estimation accuracy: 72.750%\n",
      "\n"
     ]
    }
   ],
   "source": [
    "empirical_estimation_3 = {}\n",
    "accuracy = 0\n",
    "\n",
    "for word in freq_in_twits:\n",
    "    empirical_estimation_3[word] = 0\n",
    "\n",
    "for sentence in sentence_list:\n",
    "    for word, freq in sentence.used_words.items():\n",
    "        empirical_estimation_3[word] += sentence.estimation_3*freq\n",
    "\n",
    "for word in freq_in_twits:\n",
    "    empirical_estimation_3[word] /= freq_in_twits[word]\n",
    "\n",
    "deviation = {}\n",
    "\n",
    "for word in freq_in_twits:\n",
    "    deviation[word] = abs(word_estimations[word] - empirical_estimation_3[word])\n",
    "    if deviation[word] < 1 or (word_estimations[word] > 0 and empirical_estimation_3[word] > 0) or (word_estimations[word] < 0 and empirical_estimation_3[word] < 0):\n",
    "        accuracy += 1\n",
    "\n",
    "#deviation_list = sorted(deviation.items(), key= lambda x: x[1], reverse=False)\n",
    "deviation_list = sorted(deviation, key= lambda x: deviation[x], reverse=False)\n",
    "\n",
    "with open('estimation_check_3.txt', 'w', encoding='UTF8') as file:\n",
    "    print(\"Top-5 Closest:\", file= file)\n",
    "    for word in deviation_list[:5]:\n",
    "        print(\"%s   %.2f   %.2f\" % (word, word_estimations[word], empirical_estimation_3[word]), file= file)\n",
    "    print(file= file)\n",
    "    \n",
    "    print(\"Top-5 Furthest:\", file= file)\n",
    "    for word in deviation_list[-1:-6:-1]:\n",
    "        print(\"%s   %.2f   %.2f\" % (word, word_estimations[word], empirical_estimation_3[word]), file= file)\n",
    "    print(file= file)\n",
    "    \n",
    "    print(\"Estimation accuracy: %.3f%%\" % (100*accuracy/len(freq_in_twits)), file=file)\n",
    "    \n",
    "with open('estimation_check_3.txt', encoding='UTF8') as file:\n",
    "    for line in file:\n",
    "        print(line)"
   ]
  },
  {
   "cell_type": "code",
   "execution_count": 36,
   "metadata": {},
   "outputs": [
    {
     "name": "stdout",
     "output_type": "stream",
     "text": [
      "Top-5 Closest:\n",
      "\n",
      "заявить   0.00   0.00\n",
      "\n",
      "помогать   0.00   0.00\n",
      "\n",
      "найти   0.00   0.00\n",
      "\n",
      "взаимопонимание   0.00   0.00\n",
      "\n",
      "хобби   0.00   0.00\n",
      "\n",
      "\n",
      "\n",
      "Top-5 Furthest:\n",
      "\n",
      "аут   0.00   4.00\n",
      "\n",
      "оля-оля   0.00   3.00\n",
      "\n",
      "посрать   0.00   2.00\n",
      "\n",
      ">россия   0.00   2.00\n",
      "\n",
      "художник   0.00   2.00\n",
      "\n",
      "\n",
      "\n",
      "Estimation accuracy: 86.773%\n",
      "\n"
     ]
    }
   ],
   "source": [
    "empirical_estimation_4 = {}\n",
    "accuracy = 0\n",
    "\n",
    "for word in freq_in_twits:\n",
    "    empirical_estimation_4[word] = 0\n",
    "\n",
    "for sentence in sentence_list:\n",
    "    for word, freq in sentence.used_words.items():\n",
    "        empirical_estimation_4[word] += sentence.estimation_4*freq\n",
    "\n",
    "for word in freq_in_twits:\n",
    "    empirical_estimation_4[word] /= freq_in_twits[word]\n",
    "\n",
    "deviation = {}\n",
    "\n",
    "for word in freq_in_twits:\n",
    "    deviation[word] = abs(word_estimations[word] - empirical_estimation_4[word])\n",
    "    if deviation[word] < 1 or (word_estimations[word] > 0 and empirical_estimation_4[word] > 0) or (word_estimations[word] < 0 and empirical_estimation_4[word] < 0):\n",
    "        accuracy += 1\n",
    "\n",
    "#deviation_list = sorted(deviation.items(), key= lambda x: x[1], reverse=False)\n",
    "deviation_list = sorted(deviation, key= lambda x: deviation[x], reverse=False)\n",
    "\n",
    "with open('estimation_check_4.txt', 'w', encoding='UTF8') as file:\n",
    "    print(\"Top-5 Closest:\", file= file)\n",
    "    for word in deviation_list[:5]:\n",
    "        print(\"%s   %.2f   %.2f\" % (word, word_estimations[word], empirical_estimation_4[word]), file= file)\n",
    "    print(file= file)\n",
    "    \n",
    "    print(\"Top-5 Furthest:\", file= file)\n",
    "    for word in deviation_list[-1:-6:-1]:\n",
    "        print(\"%s   %.2f   %.2f\" % (word, word_estimations[word], empirical_estimation_4[word]), file= file)\n",
    "    print(file= file)\n",
    "    \n",
    "    print(\"Estimation accuracy: %.3f%%\" % (100*accuracy/len(freq_in_twits)), file=file)\n",
    "    \n",
    "with open('estimation_check_4.txt', encoding='UTF8') as file:\n",
    "    for line in file:\n",
    "        print(line)"
   ]
  },
  {
   "cell_type": "markdown",
   "metadata": {},
   "source": [
    "8*. ДОПОЛНИТЕЛЬНОЕ ЗАДАНИЕ. Определить слова с самой положительной и отрицательной окраской."
   ]
  },
  {
   "cell_type": "code",
   "execution_count": 37,
   "metadata": {},
   "outputs": [
    {
     "name": "stdout",
     "output_type": "stream",
     "text": [
      "Top-5 Most Negative:\n",
      "\n",
      "ржач -5.0\n",
      "\n",
      "антуан -2.0\n",
      "\n",
      "дурачок -2.0\n",
      "\n",
      "200рубль -2.0\n",
      "\n",
      "предоставить -2.0\n",
      "\n",
      "\n",
      "\n",
      "Top-5 Most Positive:\n",
      "\n",
      "аут 4.0\n",
      "\n",
      "оля-оля 3.0\n",
      "\n",
      "грандиозный 3.0\n",
      "\n",
      "ніколя 3.0\n",
      "\n",
      "распиздяй 2.0\n",
      "\n"
     ]
    }
   ],
   "source": [
    "empirical_estimation_list_1 = sorted(empirical_estimation_1.items(), key= lambda x: x[1])\n",
    "\n",
    "with open('best_worst_1.txt', 'w', encoding='UTF8') as file:\n",
    "    print(\"Top-5 Most Negative:\", file= file)\n",
    "    for word, estimation in empirical_estimation_list_1[:5]:\n",
    "        print(word, estimation, file= file)\n",
    "    print(file= file)\n",
    "    \n",
    "    print(\"Top-5 Most Positive:\", file= file)\n",
    "    for word, estimation in empirical_estimation_list_1[-1:-6:-1]:\n",
    "        print(word, estimation, file= file)\n",
    "\n",
    "with open('best_worst_1.txt', encoding='UTF8') as file:\n",
    "    for line in file:\n",
    "        print(line)"
   ]
  },
  {
   "cell_type": "code",
   "execution_count": 38,
   "metadata": {},
   "outputs": [
    {
     "name": "stdout",
     "output_type": "stream",
     "text": [
      "   Semantics    Top  Frequency        Word\n",
      "0   negative  Top-1       -5.0     обидный\n",
      "1   negative  Top-2       -2.0  кривоногий\n",
      "2   negative  Top-3       -2.0      плохой\n",
      "3   negative  Top-4       -2.0   виноватый\n",
      "4   negative  Top-5       -2.0    грустный\n",
      "5  possitive  Top-1        4.0     хороший\n",
      "6  possitive  Top-2        3.0   достойный\n",
      "7  possitive  Top-3        3.0     сильный\n",
      "8  possitive  Top-4        3.0  прекрасный\n",
      "9  possitive  Top-5        2.0    красивый\n"
     ]
    },
    {
     "data": {
      "text/plain": [
       "<seaborn.axisgrid.FacetGrid at 0x1d6cb5b0>"
      ]
     },
     "execution_count": 38,
     "metadata": {},
     "output_type": "execute_result"
    },
    {
     "data": {
      "image/png": "[encoded data removed]",
      "text/plain": [
       "<Figure size 440.375x360 with 1 Axes>"
      ]
     },
     "metadata": {
      "needs_background": "light"
     },
     "output_type": "display_data"
    }
   ],
   "source": [
    "raw_data = {'Top':['Top-1', 'Top-2', 'Top-3', 'Top-4', 'Top-5']*2,\n",
    "           'Semantics':['negative']*5 + ['possitive']*5,\n",
    "           'Frequency':list(map(lambda x: x[1], empirical_estimation_list_1[:5])) + list(map(lambda x: x[1], empirical_estimation_list_1[-1:-6:-1])),\n",
    "           'Word':negative_list + possitive_list}\n",
    "df = pd.DataFrame(raw_data, columns=['Semantics','Top','Frequency','Word'])\n",
    "print(df)\n",
    "g = sns.catplot(x=\"Top\", y=\"Frequency\", hue=\"Semantics\", data=df,\n",
    "                height=5, kind=\"bar\", palette={'possitive':'g', 'negative':'r'})\n",
    "g.despine(left=True)\n",
    "g.set_ylabels(\"Empirical Estimation\")"
   ]
  },
  {
   "cell_type": "code",
   "execution_count": 39,
   "metadata": {},
   "outputs": [
    {
     "name": "stdout",
     "output_type": "stream",
     "text": [
      "Top-5 Most Negative:\n",
      "\n",
      "шах -1.0\n",
      "\n",
      "реву- -1.0\n",
      "\n",
      "перебивать -1.0\n",
      "\n",
      "русиана -1.0\n",
      "\n",
      "ебанарь -1.0\n",
      "\n",
      "\n",
      "\n",
      "Top-5 Most Positive:\n",
      "\n",
      "улыбаться 1.6666666666666667\n",
      "\n",
      "хоратия 1.0\n",
      "\n",
      "экранизация 1.0\n",
      "\n",
      "чарли 1.0\n",
      "\n",
      "пацаныыыы 1.0\n",
      "\n"
     ]
    }
   ],
   "source": [
    "empirical_estimation_list_2 = sorted(empirical_estimation_2.items(), key= lambda x: x[1])\n",
    "with open('best_worst_2.txt', 'w', encoding='UTF8') as file:\n",
    "    print(\"Top-5 Most Negative:\", file= file)\n",
    "    for word, estimation in empirical_estimation_list_2[:5]:\n",
    "        print(word, estimation, file= file)\n",
    "    print(file= file)\n",
    "    \n",
    "    print(\"Top-5 Most Positive:\", file= file)\n",
    "    for word, estimation in empirical_estimation_list_2[-1:-6:-1]:\n",
    "        print(word, estimation, file= file)\n",
    "\n",
    "with open('best_worst_2.txt', encoding='UTF8') as file:\n",
    "    for line in file:\n",
    "        print(line)"
   ]
  },
  {
   "cell_type": "code",
   "execution_count": 40,
   "metadata": {},
   "outputs": [
    {
     "name": "stdout",
     "output_type": "stream",
     "text": [
      "   Semantics    Top  Frequency        Word\n",
      "0   negative  Top-1  -1.000000     обидный\n",
      "1   negative  Top-2  -1.000000  кривоногий\n",
      "2   negative  Top-3  -1.000000      плохой\n",
      "3   negative  Top-4  -1.000000   виноватый\n",
      "4   negative  Top-5  -1.000000    грустный\n",
      "5  possitive  Top-1   1.666667     хороший\n",
      "6  possitive  Top-2   1.000000   достойный\n",
      "7  possitive  Top-3   1.000000     сильный\n",
      "8  possitive  Top-4   1.000000  прекрасный\n",
      "9  possitive  Top-5   1.000000    красивый\n"
     ]
    },
    {
     "data": {
      "text/plain": [
       "<seaborn.axisgrid.FacetGrid at 0x1d85b8d0>"
      ]
     },
     "execution_count": 40,
     "metadata": {},
     "output_type": "execute_result"
    },
    {
     "data": {
      "image/png": "[encoded data removed]",
      "text/plain": [
       "<Figure size 440.375x360 with 1 Axes>"
      ]
     },
     "metadata": {
      "needs_background": "light"
     },
     "output_type": "display_data"
    }
   ],
   "source": [
    "raw_data = {'Top':['Top-1', 'Top-2', 'Top-3', 'Top-4', 'Top-5']*2,\n",
    "           'Semantics':['negative']*5 + ['possitive']*5,\n",
    "           'Frequency':list(map(lambda x: x[1], empirical_estimation_list_2[:5])) + list(map(lambda x: x[1], empirical_estimation_list_2[-1:-6:-1])),\n",
    "           'Word':negative_list + possitive_list}\n",
    "df = pd.DataFrame(raw_data, columns=['Semantics','Top','Frequency','Word'])\n",
    "print(df)\n",
    "g = sns.catplot(x=\"Top\", y=\"Frequency\", hue=\"Semantics\", data=df,\n",
    "                height=5, kind=\"bar\", palette={'possitive':'g', 'negative':'r'})\n",
    "g.despine(left=True)\n",
    "g.set_ylabels(\"Empirical Estimation\")"
   ]
  },
  {
   "cell_type": "code",
   "execution_count": 41,
   "metadata": {},
   "outputs": [
    {
     "name": "stdout",
     "output_type": "stream",
     "text": [
      "Top-5 Most Negative:\n",
      "\n",
      "ржач -5.0\n",
      "\n",
      "дурачок -2.0\n",
      "\n",
      "пламенный -2.0\n",
      "\n",
      "писд -2.0\n",
      "\n",
      "«никакий -2.0\n",
      "\n",
      "\n",
      "\n",
      "Top-5 Most Positive:\n",
      "\n",
      "аут 4.0\n",
      "\n",
      "оля-оля 3.0\n",
      "\n",
      "грандиозный 3.0\n",
      "\n",
      "посрать 2.0\n",
      "\n",
      ">россия 2.0\n",
      "\n"
     ]
    }
   ],
   "source": [
    "empirical_estimation_list_3 = sorted(empirical_estimation_3.items(), key= lambda x: x[1])\n",
    "\n",
    "with open('best_worst_3.txt', 'w', encoding='UTF8') as file:\n",
    "    print(\"Top-5 Most Negative:\", file= file)\n",
    "    for word, estimation in empirical_estimation_list_3[:5]:\n",
    "        print(word, estimation, file= file)\n",
    "    print(file= file)\n",
    "    \n",
    "    print(\"Top-5 Most Positive:\", file= file)\n",
    "    for word, estimation in empirical_estimation_list_3[-1:-6:-1]:\n",
    "        print(word, estimation, file= file)\n",
    "\n",
    "with open('best_worst_3.txt', encoding='UTF8') as file:\n",
    "    for line in file:\n",
    "        print(line)"
   ]
  },
  {
   "cell_type": "code",
   "execution_count": 42,
   "metadata": {},
   "outputs": [
    {
     "name": "stdout",
     "output_type": "stream",
     "text": [
      "   Semantics    Top  Frequency        Word\n",
      "0   negative  Top-1       -5.0     обидный\n",
      "1   negative  Top-2       -2.0  кривоногий\n",
      "2   negative  Top-3       -2.0      плохой\n",
      "3   negative  Top-4       -2.0   виноватый\n",
      "4   negative  Top-5       -2.0    грустный\n",
      "5  possitive  Top-1        4.0     хороший\n",
      "6  possitive  Top-2        3.0   достойный\n",
      "7  possitive  Top-3        3.0     сильный\n",
      "8  possitive  Top-4        2.0  прекрасный\n",
      "9  possitive  Top-5        2.0    красивый\n"
     ]
    },
    {
     "data": {
      "text/plain": [
       "<seaborn.axisgrid.FacetGrid at 0x1e61f810>"
      ]
     },
     "execution_count": 42,
     "metadata": {},
     "output_type": "execute_result"
    },
    {
     "data": {
      "image/png": "[encoded data removed]",
      "text/plain": [
       "<Figure size 440.375x360 with 1 Axes>"
      ]
     },
     "metadata": {
      "needs_background": "light"
     },
     "output_type": "display_data"
    }
   ],
   "source": [
    "raw_data = {'Top':['Top-1', 'Top-2', 'Top-3', 'Top-4', 'Top-5']*2,\n",
    "           'Semantics':['negative']*5 + ['possitive']*5,\n",
    "           'Frequency':list(map(lambda x: x[1], empirical_estimation_list_3[:5])) + list(map(lambda x: x[1], empirical_estimation_list_3[-1:-6:-1])),\n",
    "           'Word':negative_list + possitive_list}\n",
    "df = pd.DataFrame(raw_data, columns=['Semantics','Top','Frequency','Word'])\n",
    "print(df)\n",
    "g = sns.catplot(x=\"Top\", y=\"Frequency\", hue=\"Semantics\", data=df,\n",
    "                height=5, kind=\"bar\", palette={'possitive':'g', 'negative':'r'})\n",
    "g.despine(left=True)\n",
    "g.set_ylabels(\"Empirical Estimation\")"
   ]
  },
  {
   "cell_type": "code",
   "execution_count": 43,
   "metadata": {},
   "outputs": [
    {
     "name": "stdout",
     "output_type": "stream",
     "text": [
      "Top-5 Most Negative:\n",
      "\n",
      "рыдать -1.1391304347826088\n",
      "\n",
      "роберто -1.0\n",
      "\n",
      "пеле -1.0\n",
      "\n",
      "белград -1.0\n",
      "\n",
      "патриотик -1.0\n",
      "\n",
      "\n",
      "\n",
      "Top-5 Most Positive:\n",
      "\n",
      "аут 4.0\n",
      "\n",
      "оля-оля 3.0\n",
      "\n",
      "посрать 2.0\n",
      "\n",
      ">россия 2.0\n",
      "\n",
      "художник 2.0\n",
      "\n"
     ]
    }
   ],
   "source": [
    "empirical_estimation_list_4 = sorted(empirical_estimation_4.items(), key= lambda x: x[1])\n",
    "\n",
    "with open('best_worst_4.txt', 'w', encoding='UTF8') as file:\n",
    "    print(\"Top-5 Most Negative:\", file= file)\n",
    "    for word, estimation in empirical_estimation_list_4[:5]:\n",
    "        print(word, estimation, file= file)\n",
    "    print(file= file)\n",
    "    \n",
    "    print(\"Top-5 Most Positive:\", file= file)\n",
    "    for word, estimation in empirical_estimation_list_4[-1:-6:-1]:\n",
    "        print(word, estimation, file= file)\n",
    "\n",
    "with open('best_worst_4.txt', encoding='UTF8') as file:\n",
    "    for line in file:\n",
    "        print(line)"
   ]
  },
  {
   "cell_type": "code",
   "execution_count": 44,
   "metadata": {},
   "outputs": [
    {
     "name": "stdout",
     "output_type": "stream",
     "text": [
      "   Semantics    Top  Frequency        Word\n",
      "0   negative  Top-1   -1.13913     обидный\n",
      "1   negative  Top-2   -1.00000  кривоногий\n",
      "2   negative  Top-3   -1.00000      плохой\n",
      "3   negative  Top-4   -1.00000   виноватый\n",
      "4   negative  Top-5   -1.00000    грустный\n",
      "5  possitive  Top-1    4.00000     хороший\n",
      "6  possitive  Top-2    3.00000   достойный\n",
      "7  possitive  Top-3    2.00000     сильный\n",
      "8  possitive  Top-4    2.00000  прекрасный\n",
      "9  possitive  Top-5    2.00000    красивый\n"
     ]
    },
    {
     "data": {
      "text/plain": [
       "<seaborn.axisgrid.FacetGrid at 0x1e595c70>"
      ]
     },
     "execution_count": 44,
     "metadata": {},
     "output_type": "execute_result"
    },
    {
     "data": {
      "image/png": "[encoded data removed]",
      "text/plain": [
       "<Figure size 440.375x360 with 1 Axes>"
      ]
     },
     "metadata": {
      "needs_background": "light"
     },
     "output_type": "display_data"
    }
   ],
   "source": [
    "raw_data = {'Top':['Top-1', 'Top-2', 'Top-3', 'Top-4', 'Top-5']*2,\n",
    "           'Semantics':['negative']*5 + ['possitive']*5,\n",
    "           'Frequency':list(map(lambda x: x[1], empirical_estimation_list_4[:5])) + list(map(lambda x: x[1], empirical_estimation_list_4[-1:-6:-1])),\n",
    "           'Word':negative_list + possitive_list}\n",
    "df = pd.DataFrame(raw_data, columns=['Semantics','Top','Frequency','Word'])\n",
    "print(df)\n",
    "g = sns.catplot(x=\"Top\", y=\"Frequency\", hue=\"Semantics\", data=df,\n",
    "                height=5, kind=\"bar\", palette={'possitive':'g', 'negative':'r'})\n",
    "g.despine(left=True)\n",
    "g.set_ylabels(\"Empirical Estimation\")"
   ]
  }
 ],
 "metadata": {
  "kernelspec": {
   "display_name": "Python 3",
   "language": "python",
   "name": "python3"
  },
  "language_info": {
   "codemirror_mode": {
    "name": "ipython",
    "version": 3
   },
   "file_extension": ".py",
   "mimetype": "text/x-python",
   "name": "python",
   "nbconvert_exporter": "python",
   "pygments_lexer": "ipython3",
   "version": "3.7.4"
  }
 },
 "nbformat": 4,
 "nbformat_minor": 2
}
