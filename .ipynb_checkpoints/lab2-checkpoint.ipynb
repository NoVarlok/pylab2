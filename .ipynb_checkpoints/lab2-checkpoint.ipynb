{
 "cells": [
  {
   "cell_type": "code",
   "execution_count": 196,
   "metadata": {},
   "outputs": [],
   "source": [
    "import pymorphy2\n",
    "from datetime import datetime\n",
    "import matplotlib.pyplot as mpt"
   ]
  },
  {
   "cell_type": "code",
   "execution_count": 197,
   "metadata": {},
   "outputs": [],
   "source": [
    "morph = pymorphy2.MorphAnalyzer()"
   ]
  },
  {
   "cell_type": "markdown",
   "metadata": {},
   "source": [
    "1. Подготовка и обработка данных."
   ]
  },
  {
   "cell_type": "code",
   "execution_count": 198,
   "metadata": {},
   "outputs": [],
   "source": [
    "def my_split(res, seps):\n",
    "    for sep in seps:\n",
    "        s, res = res, []\n",
    "        for seq in s:\n",
    "            res += seq.split(sep)\n",
    "    return res"
   ]
  },
  {
   "cell_type": "code",
   "execution_count": 199,
   "metadata": {},
   "outputs": [],
   "source": [
    "sentence_list = []\n",
    "\n",
    "total_words = 0\n",
    "total_twits = 0\n",
    "count_words = {}\n",
    "freq_in_twits = {}\n",
    "twits_length = {}\n",
    "word_estimations = {}\n",
    "\n",
    "separators = ['.', ',', '*', '\"', \"'\", ':', ';', '!', '?']\n",
    "ignore_word_type = ['PREP', 'CONJ', 'PRCL', 'INTJ', None]"
   ]
  },
  {
   "cell_type": "code",
   "execution_count": 200,
   "metadata": {},
   "outputs": [],
   "source": [
    "def parse_sentence(line):\n",
    "    sentence = []\n",
    "    ignore_flag = False\n",
    "    for word in line:\n",
    "        if ignore_flag:\n",
    "            ignore_flag = False\n",
    "            continue\n",
    "        if word == '#':\n",
    "            ignore_flag = True\n",
    "            continue\n",
    "        if r\".com/\" not in word:\n",
    "            word = my_split([word], separators)\n",
    "            sentence += word\n",
    "        # print(word, morph.normal_forms(word)[0], morph.tag(word)[0].POS)\n",
    "    sentence = [morph.normal_forms(word)[0] for word in sentence\n",
    "                if word != '' and morph.tag(word)[0].POS not in ignore_word_type]\n",
    "    return sentence"
   ]
  },
  {
   "cell_type": "code",
   "execution_count": 201,
   "metadata": {},
   "outputs": [],
   "source": [
    "class SentenceNote:\n",
    "    def __init__(self, line):\n",
    "        self.estimation = 0\n",
    "        line = line.split()\n",
    "        day = list(map(int, line[0].split('-')))\n",
    "        time = list(map(int, line[1].split(':')))\n",
    "        self.time = datetime(day = day[2], month = day[1], year = day[0], hour = time[0], minute = time[1])\n",
    "        raw_sentence = parse_sentence(line[2:])\n",
    "        self.size = len(raw_sentence)\n",
    "        self.used_words = {}\n",
    "        for word in raw_sentence:\n",
    "            if self.used_words.get(word, 0) == 0:\n",
    "                self.used_words[word] = 0\n",
    "            self.used_words[word] += 1\n",
    "\n",
    "    def __str__(self):\n",
    "        return \"    \".join([str(self.time), str(self.used_words.items())])\n",
    "    \n",
    "    def __repr__(self):\n",
    "        return self.__str__()"
   ]
  },
  {
   "cell_type": "code",
   "execution_count": 202,
   "metadata": {
    "scrolled": false
   },
   "outputs": [],
   "source": [
    "with open(\"data_utf8.txt\", encoding='UTF8') as file:\n",
    "    for line in file:\n",
    "        line = line.strip()\n",
    "        if len(line) == 0:\n",
    "            continue\n",
    "        sentence = SentenceNote(line)\n",
    "        sentence_list.append(sentence)"
   ]
  },
  {
   "cell_type": "markdown",
   "metadata": {},
   "source": [
    "2. Частотный анализ."
   ]
  },
  {
   "cell_type": "code",
   "execution_count": 203,
   "metadata": {},
   "outputs": [],
   "source": [
    "total_twits = len(sentence_list)\n",
    "\n",
    "for sentence in sentence_list:\n",
    "    total_words += sentence.size\n",
    "    if twits_length.get(sentence.size, 0) == 0:\n",
    "        twits_length[sentence.size] = 0\n",
    "    twits_length[sentence.size] += 1\n",
    "    \n",
    "    for word, count in sentence.used_words.items():\n",
    "        if count_words.get(word, 0) == 0:\n",
    "            count_words[word] = 0\n",
    "        count_words[word] += count\n",
    "        if freq_in_twits.get(word, 0) == 0:\n",
    "            freq_in_twits[word] = 0\n",
    "        freq_in_twits[word] += 1"
   ]
  },
  {
   "cell_type": "code",
   "execution_count": 204,
   "metadata": {},
   "outputs": [],
   "source": [
    "file = open(\"frequency.txt\", 'w', encoding='UTF8')\n",
    "for word, cnt in sorted(freq_in_twits.items(), key= lambda x: x[1], reverse = True):\n",
    "    print(\"%s - %d - %.3f%%\" % (word, freq_in_twits[word], freq_in_twits[word]/total_twits*100), file=file)\n",
    "file.close()"
   ]
  },
  {
   "cell_type": "code",
   "execution_count": 205,
   "metadata": {},
   "outputs": [
    {
     "data": {
      "text/plain": [
       "True"
      ]
     },
     "execution_count": 205,
     "metadata": {},
     "output_type": "execute_result"
    }
   ],
   "source": [
    "file = open(\"twits_length.txt\", 'w', encoding='UTF8')\n",
    "sum = 0\n",
    "for length, cnt in sorted(twits_length.items(), key= lambda x: x[1], reverse = True):\n",
    "    sum += cnt\n",
    "    print(\"%d - %d - %.3f%%\" % (length, cnt, cnt/total_twits*100), file= file)\n",
    "file.close()\n",
    "sum == total_twits"
   ]
  },
  {
   "cell_type": "markdown",
   "metadata": {},
   "source": [
    "3. Эмпирическая оценка/разметка отдельных слов."
   ]
  },
  {
   "cell_type": "code",
   "execution_count": 206,
   "metadata": {},
   "outputs": [],
   "source": [
    "# file = open(\"word_score_no.txt\", 'w', encoding='UTF8')\n",
    "# for word, cnt in sorted(freq_in_twits.items(), key= lambda x: x[1], reverse = True):\n",
    "#     print(word, \"\" if freq_in_twits[word] > 1 else 0, file=file)\n",
    "# file.close() "
   ]
  },
  {
   "cell_type": "markdown",
   "metadata": {},
   "source": [
    "4. Правила классификации. Оценка твитов. Сравнительный анализ."
   ]
  },
  {
   "cell_type": "code",
   "execution_count": 207,
   "metadata": {},
   "outputs": [],
   "source": [
    "with open(\"estimations.txt\", encoding='UTF8') as file:\n",
    "    for line in file:\n",
    "        line = line.strip().split()\n",
    "        if(len(line) == 1) : print(line)\n",
    "        word, score = line[0], int(line[1])\n",
    "        word_estimations[word] = score"
   ]
  },
  {
   "cell_type": "code",
   "execution_count": 208,
   "metadata": {},
   "outputs": [],
   "source": [
    "with open('classifications.txt.', 'w', encoding='UTF8') as file:\n",
    "    pass"
   ]
  },
  {
   "cell_type": "code",
   "execution_count": 209,
   "metadata": {},
   "outputs": [],
   "source": [
    "for sentence in sentence_list:\n",
    "    for word, number in sentence.used_words.items():\n",
    "        sentence.estimation += word_estimations.get(word, 0) * number"
   ]
  },
  {
   "cell_type": "code",
   "execution_count": 210,
   "metadata": {},
   "outputs": [
    {
     "name": "stdout",
     "output_type": "stream",
     "text": [
      "{'bad_sentences': 841, 'neutral_sentences': 7212, 'good_sentences': 1947}\n"
     ]
    },
    {
     "data": {
      "text/plain": [
       "<BarContainer object of 3 artists>"
      ]
     },
     "execution_count": 210,
     "metadata": {},
     "output_type": "execute_result"
    },
    {
     "data": {
      "image/png": "[encoded data removed]",
      "text/plain": [
       "<Figure size 432x288 with 1 Axes>"
      ]
     },
     "metadata": {
      "needs_background": "light"
     },
     "output_type": "display_data"
    }
   ],
   "source": [
    "rule_1 = {'bad_sentences':0, 'neutral_sentences':0,'good_sentences':0}\n",
    "for sentence in sentence_list:\n",
    "    if sentence.estimation < -1:\n",
    "        rule_1['bad_sentences'] += 1\n",
    "    elif sentence.estimation <= 1:\n",
    "        rule_1['neutral_sentences'] += 1\n",
    "    else :\n",
    "        rule_1['good_sentences'] += 1\n",
    "print(rule_1)\n",
    "\n",
    "with open('classifications.txt.', 'a+', encoding='UTF8') as file:\n",
    "    print('Rule 1:', file= file)\n",
    "    for classification, number in rule_1.items():\n",
    "        print('%s - %d - %.3f%%' % (classification, number, 100*number/total_twits), file= file)\n",
    "    print(file=file)\n",
    "\n",
    "mpt.bar(x=[-1,0,1], height = rule_1.values(), align ='center', color=['red', 'yellow', 'green'], \n",
    "        tick_label = ['bad', 'neutral', 'good'])"
   ]
  },
  {
   "cell_type": "code",
   "execution_count": 211,
   "metadata": {},
   "outputs": [
    {
     "name": "stdout",
     "output_type": "stream",
     "text": [
      "{'bad_sentences': 2298, 'neutral_sentences': 3603, 'good_sentences': 4099}\n"
     ]
    },
    {
     "data": {
      "text/plain": [
       "<BarContainer object of 3 artists>"
      ]
     },
     "execution_count": 211,
     "metadata": {},
     "output_type": "execute_result"
    },
    {
     "data": {
      "image/png": "[encoded data removed]",
      "text/plain": [
       "<Figure size 432x288 with 1 Axes>"
      ]
     },
     "metadata": {
      "needs_background": "light"
     },
     "output_type": "display_data"
    }
   ],
   "source": [
    "rule_2 = {'bad_sentences':0, 'neutral_sentences':0,'good_sentences':0}\n",
    "for sentence in sentence_list:\n",
    "    if sentence.estimation < 0:\n",
    "        rule_2['bad_sentences'] += 1\n",
    "    elif sentence.estimation == 0:\n",
    "        rule_2['neutral_sentences'] += 1\n",
    "    else :\n",
    "        rule_2['good_sentences'] += 1\n",
    "print(rule_2)\n",
    "\n",
    "with open('classifications.txt.', 'a+', encoding='UTF8') as file:\n",
    "    print('Rule 2:', file= file)\n",
    "    for classification, number in rule_2.items():\n",
    "        print('%s - %d - %.3f%%' % (classification, number, 100*number/total_twits), file= file)\n",
    "    print(file=file)\n",
    "mpt.bar(x=[-1,0,1], height = rule_2.values(), align ='center', color=['red', 'yellow', 'green'],\n",
    "        tick_label = ['bad', 'neutral', 'good'])"
   ]
  },
  {
   "cell_type": "markdown",
   "metadata": {},
   "source": [
    "5. Части речи. (Достроить 2 графика)"
   ]
  },
  {
   "cell_type": "code",
   "execution_count": 212,
   "metadata": {},
   "outputs": [],
   "source": [
    "possitive_list = []\n",
    "negative_list = []\n",
    "with open('estimations.txt', encoding='UTF8') as file:\n",
    "    for line in file:\n",
    "        line = line.strip().split()\n",
    "        word = line[0]\n",
    "        word_estimation = int(line[1])\n",
    "        if morph.tag(word)[0].POS == 'ADJF':\n",
    "            if word_estimation == 1 and len(possitive_list) < 5:\n",
    "                possitive_list.append(word)\n",
    "            if word_estimation == -1 and len(negative_list) < 5:\n",
    "                negative_list.append(word)\n",
    "with open('adjectives.txt.', 'w', encoding='UTF8') as file:\n",
    "    print('Top-5 Positive:', file= file)\n",
    "    for word in possitive_list:\n",
    "        print('%s - %d - %.3f%%' % (word, freq_in_twits[word], 100*freq_in_twits[word]/total_twits), file= file)\n",
    "    print(file= file)\n",
    "    \n",
    "    print('Top-5 Negative:', file= file)\n",
    "    for word in negative_list:\n",
    "        print('%s - %d - %.3f%%' % (word, freq_in_twits[word], 100*freq_in_twits[word]/total_twits), file= file)\n",
    "    print(file= file)"
   ]
  },
  {
   "cell_type": "markdown",
   "metadata": {},
   "source": [
    "6. Оценить распределение положительных/отрицательных/нейтральных твитов по времени."
   ]
  },
  {
   "cell_type": "code",
   "execution_count": 213,
   "metadata": {
    "scrolled": true
   },
   "outputs": [],
   "source": [
    "# outset = set(sentence_list)\n",
    "# for obj in sorted(outset, key= lambda x: x.time):\n",
    "#     print(obj.time)"
   ]
  },
  {
   "cell_type": "markdown",
   "metadata": {},
   "source": [
    "7*. ДОПОЛНИТЕЛЬНОЕ ЗАДАНИЕ. Определение точности эмпирической оценки твитов."
   ]
  },
  {
   "cell_type": "code",
   "execution_count": 245,
   "metadata": {},
   "outputs": [
    {
     "name": "stdout",
     "output_type": "stream",
     "text": [
      "Top-5 Closest:\n",
      "\n",
      "удаться   0.00   0.00\n",
      "\n",
      "хобби   0.00   0.00\n",
      "\n",
      "домогаться   0.00   0.00\n",
      "\n",
      "заесть   0.00   0.00\n",
      "\n",
      "послушать   0.00   0.00\n",
      "\n",
      "\n",
      "\n",
      "Top-5 Furthest:\n",
      "\n",
      "блятьблять   0.00   -42.00\n",
      "\n",
      "унизить   0.00   -13.00\n",
      "\n",
      "бучий   0.00   -13.00\n",
      "\n",
      "хуемраааааазить   0.00   -11.00\n",
      "\n",
      "еврей   0.00   -11.00\n",
      "\n",
      "\n",
      "\n",
      "Estimation accuracy: 75.157%\n",
      "\n"
     ]
    }
   ],
   "source": [
    "empirical_estimation = {}\n",
    "accuracy = 0\n",
    "\n",
    "for word in freq_in_twits:\n",
    "    empirical_estimation[word] = 0\n",
    "\n",
    "for sentence in sentence_list:\n",
    "    for word in sentence.used_words:\n",
    "        empirical_estimation[word] += sentence.estimation\n",
    "\n",
    "for word in freq_in_twits:\n",
    "    empirical_estimation[word] /= count_words[word]\n",
    "\n",
    "deviation = {}\n",
    "\n",
    "for word in freq_in_twits:\n",
    "    deviation[word] = abs(word_estimations[word] - empirical_estimation[word])\n",
    "    if deviation[word] <= 1 or (word_estimations[word] > 0 and empirical_estimation[word] > 0) or (word_estimations[word] < 0 and empirical_estimation[word] < 0):\n",
    "        accuracy += 1\n",
    "\n",
    "#deviation_list = sorted(deviation.items(), key= lambda x: x[1], reverse=False)\n",
    "deviation_list = sorted(deviation, key= lambda x: deviation[x], reverse=False)\n",
    "\n",
    "with open('estimation_check.txt', 'w', encoding='UTF8') as file:\n",
    "    print(\"Top-5 Closest:\", file= file)\n",
    "    for word in deviation_list[:5]:\n",
    "        print(\"%s   %.2f   %.2f\" % (word, word_estimations[word], empirical_estimation[word]), file= file)\n",
    "    print(file= file)\n",
    "    \n",
    "    print(\"Top-5 Furthest:\", file= file)\n",
    "    for word in deviation_list[-1:-6:-1]:\n",
    "        print(\"%s   %.2f   %.2f\" % (word, word_estimations[word], empirical_estimation[word]), file= file)\n",
    "    print(file= file)\n",
    "    \n",
    "    print(\"Estimation accuracy: %.3f%%\" % (100*accuracy/len(freq_in_twits)), file=file)\n",
    "    \n",
    "with open('estimation_check.txt', encoding='UTF8') as file:\n",
    "    for line in file:\n",
    "        print(line)"
   ]
  },
  {
   "cell_type": "markdown",
   "metadata": {},
   "source": [
    "8*. ДОПОЛНИТЕЛЬНОЕ ЗАДАНИЕ. Определить слова с самой положительной и отрицательной окраской."
   ]
  },
  {
   "cell_type": "code",
   "execution_count": 254,
   "metadata": {},
   "outputs": [
    {
     "name": "stdout",
     "output_type": "stream",
     "text": [
      "Top-5 Most Positive:\n",
      "\n",
      "блятьблять -42.0\n",
      "\n",
      "бучий -13.0\n",
      "\n",
      "унизить -13.0\n",
      "\n",
      "хуйнуть -11.0\n",
      "\n",
      "отмудохать -11.0\n",
      "\n",
      "\n",
      "\n",
      "Top-5 Most Negative:\n",
      "\n",
      "силач 9.0\n",
      "\n",
      "кромь 9.0\n",
      "\n",
      "горесть 8.0\n",
      "\n",
      "послание 7.0\n",
      "\n",
      "дарита 7.0\n",
      "\n"
     ]
    }
   ],
   "source": [
    "empirical_estimation_list = sorted(empirical_estimation.items(), key= lambda x: x[1])\n",
    "\n",
    "with open('best_worst.txt', 'w', encoding='UTF8') as file:\n",
    "    print(\"Top-5 Most Positive:\", file= file)\n",
    "    for word, estimation in empirical_estimation_list[:5]:\n",
    "        print(word, estimation, file= file)\n",
    "    print(file= file)\n",
    "    \n",
    "    print(\"Top-5 Most Negative:\", file= file)\n",
    "    for word, estimation in empirical_estimation_list[-1:-6:-1]:\n",
    "        print(word, estimation, file= file)\n",
    "\n",
    "with open('best_worst.txt', encoding='UTF8') as file:\n",
    "    for line in file:\n",
    "        print(line)"
   ]
  }
 ],
 "metadata": {
  "kernelspec": {
   "display_name": "Python 3",
   "language": "python",
   "name": "python3"
  },
  "language_info": {
   "codemirror_mode": {
    "name": "ipython",
    "version": 3
   },
   "file_extension": ".py",
   "mimetype": "text/x-python",
   "name": "python",
   "nbconvert_exporter": "python",
   "pygments_lexer": "ipython3",
   "version": "3.7.4"
  }
 },
 "nbformat": 4,
 "nbformat_minor": 2
}
